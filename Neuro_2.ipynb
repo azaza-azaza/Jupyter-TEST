{
 "cells": [
  {
   "cell_type": "code",
   "execution_count": 1,
   "id": "66dfd010",
   "metadata": {},
   "outputs": [],
   "source": [
    "import pandas as pd\n",
    "import numpy as np"
   ]
  },
  {
   "cell_type": "code",
   "execution_count": 2,
   "id": "80c28b48",
   "metadata": {},
   "outputs": [
    {
     "name": "stdout",
     "output_type": "stream",
     "text": [
      "['База', 'Образец', 'plan = discount', 'general_code = region', 'code']\n",
      "   Предложение        Регион     Телефон\n",
      "0  Минимум 30%  БАШКОРТОСТАН  6130021463\n",
      "1  Минимум 30%  БАШКОРТОСТАН  2135106034\n",
      "2  Минимум 30%  БАШКОРТОСТАН  1378124088\n",
      "3  Минимум 30%  БАШКОРТОСТАН  1724240160\n",
      "4  Минимум 30%  БАШКОРТОСТАН  5280821188\n",
      "                 region   general_code\n",
      "0    Ивановская область    _IVN_15_all\n",
      "1   Ярославская область    _YAR_15_all\n",
      "2                Казань  _KAZAN_15_all\n",
      "3      Набережные Челны    _NAB_15_all\n",
      "4  Республика Татарстан  _TATAR_15_all\n",
      "      plan  discount\n",
      "0      all        15\n",
      "1    calls        20\n",
      "2  minimum        30\n",
      "      region_old               region_new region_code\n",
      "0   БАШКОРТОСТАН  Республика Башкортостан      _BASH_\n",
      "1   СВЕРДЛ. ОБЛ.     Свердловская область     _SVERD_\n",
      "2        ХАКАСИЯ       Республика Хакасия     _HAKAS_\n",
      "3  ТУЛЬСКАЯ ОБЛ.         Тульская область      _TULA_\n",
      "4       УДМУРТИЯ    Удмуртская Республика     _UDMUR_\n"
     ]
    }
   ],
   "source": [
    "# Загружаем ваш файл в переменную `file` / вместо 'example' укажите название свого файла из текущей директории\n",
    "file = 'C:/Users/astoi/Desktop/Нейро/Задание_1_база_3.xlsx'\n",
    "\n",
    "# Загружаем spreadsheet в объект pandas\n",
    "xl = pd.ExcelFile(file)\n",
    "\n",
    "# Печатаем название листов в данном файле\n",
    "print(xl.sheet_names)\n",
    "\n",
    "\n",
    "data = xl.parse('База')\n",
    "region = xl.parse('general_code = region')\n",
    "plan = xl.parse('plan = discount')\n",
    "code = xl.parse('code')\n",
    "print(data.head())\n",
    "print(region.head())\n",
    "print(plan.head())\n",
    "print(code.head())"
   ]
  },
  {
   "cell_type": "code",
   "execution_count": 3,
   "id": "cb015cc4",
   "metadata": {},
   "outputs": [
    {
     "name": "stdout",
     "output_type": "stream",
     "text": [
      "<class 'pandas.core.frame.DataFrame'>\n",
      "RangeIndex: 3 entries, 0 to 2\n",
      "Data columns (total 2 columns):\n",
      " #   Column    Non-Null Count  Dtype \n",
      "---  ------    --------------  ----- \n",
      " 0   plan      3 non-null      object\n",
      " 1   discount  3 non-null      int64 \n",
      "dtypes: int64(1), object(1)\n",
      "memory usage: 176.0+ bytes\n"
     ]
    }
   ],
   "source": [
    "plan.info()"
   ]
  },
  {
   "cell_type": "code",
   "execution_count": 4,
   "id": "46bbf48f",
   "metadata": {},
   "outputs": [
    {
     "data": {
      "text/html": [
       "<div>\n",
       "<style scoped>\n",
       "    .dataframe tbody tr th:only-of-type {\n",
       "        vertical-align: middle;\n",
       "    }\n",
       "\n",
       "    .dataframe tbody tr th {\n",
       "        vertical-align: top;\n",
       "    }\n",
       "\n",
       "    .dataframe thead th {\n",
       "        text-align: right;\n",
       "    }\n",
       "</style>\n",
       "<table border=\"1\" class=\"dataframe\">\n",
       "  <thead>\n",
       "    <tr style=\"text-align: right;\">\n",
       "      <th></th>\n",
       "      <th>phone</th>\n",
       "      <th>plan</th>\n",
       "      <th>region</th>\n",
       "      <th>discount</th>\n",
       "      <th>general_code</th>\n",
       "    </tr>\n",
       "  </thead>\n",
       "  <tbody>\n",
       "  </tbody>\n",
       "</table>\n",
       "</div>"
      ],
      "text/plain": [
       "Empty DataFrame\n",
       "Columns: [phone, plan, region, discount, general_code]\n",
       "Index: []"
      ]
     },
     "execution_count": 4,
     "metadata": {},
     "output_type": "execute_result"
    }
   ],
   "source": [
    "data_new = xl.parse('Образец')\n",
    "data_new = data_new[data_new.phone == 0]\n",
    "data_new.head()"
   ]
  },
  {
   "cell_type": "code",
   "execution_count": 5,
   "id": "0436318c",
   "metadata": {},
   "outputs": [
    {
     "data": {
      "text/plain": [
       "array(['Минимум 30%', 'Звонки 20%', 'Все 15%'], dtype=object)"
      ]
     },
     "execution_count": 5,
     "metadata": {},
     "output_type": "execute_result"
    }
   ],
   "source": [
    "data_new.plan = data.Предложение\n",
    "data_new.phone = data.Телефон\n",
    "data_new.region = data.Регион\n",
    "data_new['plan'].unique()"
   ]
  },
  {
   "cell_type": "code",
   "execution_count": 6,
   "id": "1df5a3b4",
   "metadata": {},
   "outputs": [
    {
     "name": "stderr",
     "output_type": "stream",
     "text": [
      "C:\\Users\\astoi\\AppData\\Local\\Temp/ipykernel_900/1839902470.py:3: SettingWithCopyWarning: \n",
      "A value is trying to be set on a copy of a slice from a DataFrame\n",
      "\n",
      "See the caveats in the documentation: https://pandas.pydata.org/pandas-docs/stable/user_guide/indexing.html#returning-a-view-versus-a-copy\n",
      "  data_new['plan'][i] = 'minimum'\n",
      "C:\\Users\\astoi\\AppData\\Local\\Temp/ipykernel_900/1839902470.py:4: SettingWithCopyWarning: \n",
      "A value is trying to be set on a copy of a slice from a DataFrame\n",
      "\n",
      "See the caveats in the documentation: https://pandas.pydata.org/pandas-docs/stable/user_guide/indexing.html#returning-a-view-versus-a-copy\n",
      "  data_new['discount'][i] = plan['discount'][2]\n",
      "C:\\Users\\astoi\\AppData\\Local\\Temp/ipykernel_900/1839902470.py:6: SettingWithCopyWarning: \n",
      "A value is trying to be set on a copy of a slice from a DataFrame\n",
      "\n",
      "See the caveats in the documentation: https://pandas.pydata.org/pandas-docs/stable/user_guide/indexing.html#returning-a-view-versus-a-copy\n",
      "  data_new['plan'][i] = 'calls'\n",
      "C:\\Users\\astoi\\AppData\\Local\\Temp/ipykernel_900/1839902470.py:7: SettingWithCopyWarning: \n",
      "A value is trying to be set on a copy of a slice from a DataFrame\n",
      "\n",
      "See the caveats in the documentation: https://pandas.pydata.org/pandas-docs/stable/user_guide/indexing.html#returning-a-view-versus-a-copy\n",
      "  data_new['discount'][i] = plan['discount'][1]\n",
      "C:\\Users\\astoi\\AppData\\Local\\Temp/ipykernel_900/1839902470.py:9: SettingWithCopyWarning: \n",
      "A value is trying to be set on a copy of a slice from a DataFrame\n",
      "\n",
      "See the caveats in the documentation: https://pandas.pydata.org/pandas-docs/stable/user_guide/indexing.html#returning-a-view-versus-a-copy\n",
      "  data_new['plan'][i] = 'all'\n",
      "C:\\Users\\astoi\\AppData\\Local\\Temp/ipykernel_900/1839902470.py:10: SettingWithCopyWarning: \n",
      "A value is trying to be set on a copy of a slice from a DataFrame\n",
      "\n",
      "See the caveats in the documentation: https://pandas.pydata.org/pandas-docs/stable/user_guide/indexing.html#returning-a-view-versus-a-copy\n",
      "  data_new['discount'][i] = plan['discount'][0]\n"
     ]
    },
    {
     "name": "stdout",
     "output_type": "stream",
     "text": [
      "        phone     plan        region  discount general_code\n",
      "0  6130021463  minimum  БАШКОРТОСТАН      30.0          NaN\n",
      "1  2135106034  minimum  БАШКОРТОСТАН      30.0          NaN\n",
      "2  1378124088  minimum  БАШКОРТОСТАН      30.0          NaN\n",
      "3  1724240160  minimum  БАШКОРТОСТАН      30.0          NaN\n",
      "4  5280821188  minimum  БАШКОРТОСТАН      30.0          NaN\n",
      "39\n",
      "84\n",
      "[30. 20. 15.]\n"
     ]
    }
   ],
   "source": [
    "for i in range(len(data_new['plan'])):\n",
    "    if data_new['plan'][i] == 'Минимум 30%':\n",
    "        data_new['plan'][i] = 'minimum'\n",
    "        data_new['discount'][i] = plan['discount'][2]\n",
    "    elif data_new['plan'][i] == 'Звонки 20%':\n",
    "        data_new['plan'][i] = 'calls'\n",
    "        data_new['discount'][i] = plan['discount'][1]\n",
    "    elif data_new['plan'][i] == 'Все 15%':\n",
    "        data_new['plan'][i] = 'all'\n",
    "        data_new['discount'][i] = plan['discount'][0]\n",
    "#     else:\n",
    "#         data_new['plan'][i] = 'Error'\n",
    "#         data_new['discount'][i] = 'Error'\n",
    "    \n",
    "print(data_new.head())\n",
    "print(len(data_new['region'].unique()))\n",
    "print(len(region['region'].unique()))\n",
    "print(data_new['discount'].unique())"
   ]
  },
  {
   "cell_type": "code",
   "execution_count": 7,
   "id": "10dee7e1",
   "metadata": {},
   "outputs": [
    {
     "name": "stdout",
     "output_type": "stream",
     "text": [
      "<class 'pandas.core.frame.DataFrame'>\n",
      "RangeIndex: 764 entries, 0 to 763\n",
      "Data columns (total 5 columns):\n",
      " #   Column        Non-Null Count  Dtype \n",
      "---  ------        --------------  ----- \n",
      " 0   phone         764 non-null    int64 \n",
      " 1   plan          764 non-null    object\n",
      " 2   region        764 non-null    object\n",
      " 3   discount      764 non-null    int32 \n",
      " 4   general_code  0 non-null      object\n",
      "dtypes: int32(1), int64(1), object(3)\n",
      "memory usage: 27.0+ KB\n"
     ]
    }
   ],
   "source": [
    "data_new[['discount']] = data_new[['discount']].astype(int)\n",
    "data_new.info()"
   ]
  },
  {
   "cell_type": "code",
   "execution_count": 8,
   "id": "28691c46",
   "metadata": {},
   "outputs": [
    {
     "name": "stderr",
     "output_type": "stream",
     "text": [
      "C:\\Users\\astoi\\AppData\\Local\\Temp/ipykernel_900/2740922129.py:4: SettingWithCopyWarning: \n",
      "A value is trying to be set on a copy of a slice from a DataFrame\n",
      "\n",
      "See the caveats in the documentation: https://pandas.pydata.org/pandas-docs/stable/user_guide/indexing.html#returning-a-view-versus-a-copy\n",
      "  data_new['region'][i] = code['region_new'][r]\n",
      "C:\\Users\\astoi\\AppData\\Local\\Temp/ipykernel_900/2740922129.py:5: SettingWithCopyWarning: \n",
      "A value is trying to be set on a copy of a slice from a DataFrame\n",
      "\n",
      "See the caveats in the documentation: https://pandas.pydata.org/pandas-docs/stable/user_guide/indexing.html#returning-a-view-versus-a-copy\n",
      "  data_new['general_code'][i] = (code['region_code'][r] + str(data_new['discount'][i]) + '_' +\n"
     ]
    },
    {
     "name": "stdout",
     "output_type": "stream",
     "text": [
      "УНИКАЛЬНЫХ РЕГИОНОВ 39\n",
      "['Республика Башкортостан' 'Свердловская область' 'Республика Хакасия'\n",
      " 'Тульская область' 'Удмуртская Республика' 'Республика Коми'\n",
      " 'Рязанская область' 'Республика Марий Эл' 'Кировская область'\n",
      " 'Ямало-Ненецкий автономный округ'\n",
      " 'Санкт-Петербург и Ленинградская область' 'Республика Саха (Якутия)'\n",
      " 'Калужская область' 'Тамбовская область' 'Ростовская область'\n",
      " 'Республика Карелия' 'Хабаровский край' 'Чукотский автономный округ'\n",
      " 'Республика Бурятия' 'Ивановская область' 'Чувашская Республика'\n",
      " 'Набережные Челны' 'Адыгея' 'Краснодарский край' 'Республика Мордовия'\n",
      " 'Архангельская область' 'Приморский край' 'Брянская область'\n",
      " 'Республика Алтай' 'Самарская область' 'Республика Ингушетия' 'Казань'\n",
      " 'Республика Татарстан' 'Орловская область' 'Чеченская Республика'\n",
      " 'Камчатский край' 'Сочи' 'Ставропольский край' 'Забайкальский край']\n",
      "        phone     plan                   region  discount      general_code\n",
      "0  6130021463  minimum  Республика Башкортостан        30  _BASH_30_minimum\n",
      "1  2135106034  minimum  Республика Башкортостан        30  _BASH_30_minimum\n",
      "2  1378124088  minimum  Республика Башкортостан        30  _BASH_30_minimum\n",
      "3  1724240160  minimum  Республика Башкортостан        30  _BASH_30_minimum\n",
      "4  5280821188  minimum  Республика Башкортостан        30  _BASH_30_minimum\n"
     ]
    }
   ],
   "source": [
    "for i in range(len(data_new['region'])):\n",
    "    for r in range(len(code['region_old'])):\n",
    "        if data_new['region'][i] in code['region_old'][r]:\n",
    "            data_new['region'][i] = code['region_new'][r]\n",
    "            data_new['general_code'][i] = (code['region_code'][r] + str(data_new['discount'][i]) + '_' +\n",
    "                                           data_new['plan'][i])\n",
    "            continue\n",
    "\n",
    "print('УНИКАЛЬНЫХ РЕГИОНОВ', len(data_new['region'].unique()))\n",
    "print(data_new['region'].unique())\n",
    "print(data_new.head())"
   ]
  },
  {
   "cell_type": "code",
   "execution_count": 9,
   "id": "f314342a",
   "metadata": {},
   "outputs": [
    {
     "name": "stdout",
     "output_type": "stream",
     "text": [
      "<class 'pandas.core.frame.DataFrame'>\n",
      "RangeIndex: 764 entries, 0 to 763\n",
      "Data columns (total 5 columns):\n",
      " #   Column        Non-Null Count  Dtype \n",
      "---  ------        --------------  ----- \n",
      " 0   phone         764 non-null    int64 \n",
      " 1   plan          764 non-null    object\n",
      " 2   region        764 non-null    object\n",
      " 3   discount      764 non-null    int32 \n",
      " 4   general_code  764 non-null    object\n",
      "dtypes: int32(1), int64(1), object(3)\n",
      "memory usage: 27.0+ KB\n"
     ]
    }
   ],
   "source": [
    "data_new.info()"
   ]
  },
  {
   "cell_type": "code",
   "execution_count": 21,
   "id": "dd870bee",
   "metadata": {},
   "outputs": [
    {
     "data": {
      "text/html": [
       "<div>\n",
       "<style scoped>\n",
       "    .dataframe tbody tr th:only-of-type {\n",
       "        vertical-align: middle;\n",
       "    }\n",
       "\n",
       "    .dataframe tbody tr th {\n",
       "        vertical-align: top;\n",
       "    }\n",
       "\n",
       "    .dataframe thead th {\n",
       "        text-align: right;\n",
       "    }\n",
       "</style>\n",
       "<table border=\"1\" class=\"dataframe\">\n",
       "  <thead>\n",
       "    <tr style=\"text-align: right;\">\n",
       "      <th></th>\n",
       "      <th>phone</th>\n",
       "      <th>plan</th>\n",
       "      <th>region</th>\n",
       "      <th>discount</th>\n",
       "      <th>general_code</th>\n",
       "    </tr>\n",
       "  </thead>\n",
       "  <tbody>\n",
       "    <tr>\n",
       "      <th>64</th>\n",
       "      <td>88615012486</td>\n",
       "      <td>minimum</td>\n",
       "      <td>Республика Коми</td>\n",
       "      <td>30</td>\n",
       "      <td>_KOMI_30_minimum</td>\n",
       "    </tr>\n",
       "    <tr>\n",
       "      <th>151</th>\n",
       "      <td>474101112</td>\n",
       "      <td>minimum</td>\n",
       "      <td>Ямало-Ненецкий автономный округ</td>\n",
       "      <td>30</td>\n",
       "      <td>_YAMAL_30_minimum</td>\n",
       "    </tr>\n",
       "    <tr>\n",
       "      <th>240</th>\n",
       "      <td>303301813</td>\n",
       "      <td>minimum</td>\n",
       "      <td>Тамбовская область</td>\n",
       "      <td>30</td>\n",
       "      <td>_TAMBOV_30_minimum</td>\n",
       "    </tr>\n",
       "    <tr>\n",
       "      <th>321</th>\n",
       "      <td>318007641</td>\n",
       "      <td>calls</td>\n",
       "      <td>Чувашская Республика</td>\n",
       "      <td>20</td>\n",
       "      <td>_CHUVA_20_calls</td>\n",
       "    </tr>\n",
       "    <tr>\n",
       "      <th>494</th>\n",
       "      <td>55040561883</td>\n",
       "      <td>all</td>\n",
       "      <td>Самарская область</td>\n",
       "      <td>15</td>\n",
       "      <td>_SAMAR_15_all</td>\n",
       "    </tr>\n",
       "    <tr>\n",
       "      <th>641</th>\n",
       "      <td>77516767462</td>\n",
       "      <td>all</td>\n",
       "      <td>Камчатский край</td>\n",
       "      <td>15</td>\n",
       "      <td>_KAMCH_15_all</td>\n",
       "    </tr>\n",
       "    <tr>\n",
       "      <th>759</th>\n",
       "      <td>74105042</td>\n",
       "      <td>all</td>\n",
       "      <td>Забайкальский край</td>\n",
       "      <td>15</td>\n",
       "      <td>_ZABAIKAL_15_all</td>\n",
       "    </tr>\n",
       "  </tbody>\n",
       "</table>\n",
       "</div>"
      ],
      "text/plain": [
       "           phone     plan                           region  discount  \\\n",
       "64   88615012486  minimum                  Республика Коми        30   \n",
       "151    474101112  minimum  Ямало-Ненецкий автономный округ        30   \n",
       "240    303301813  minimum               Тамбовская область        30   \n",
       "321    318007641    calls             Чувашская Республика        20   \n",
       "494  55040561883      all                Самарская область        15   \n",
       "641  77516767462      all                  Камчатский край        15   \n",
       "759     74105042      all               Забайкальский край        15   \n",
       "\n",
       "           general_code  \n",
       "64     _KOMI_30_minimum  \n",
       "151   _YAMAL_30_minimum  \n",
       "240  _TAMBOV_30_minimum  \n",
       "321     _CHUVA_20_calls  \n",
       "494       _SAMAR_15_all  \n",
       "641       _KAMCH_15_all  \n",
       "759    _ZABAIKAL_15_all  "
      ]
     },
     "execution_count": 21,
     "metadata": {},
     "output_type": "execute_result"
    }
   ],
   "source": [
    "data_true =  data_new.loc[(data_new.phone > 999999999) & (data_new.phone < 10000000000)]\n",
    "data_error = data_new.query('phone not in @data_true.phone')\n",
    "data_error"
   ]
  },
  {
   "cell_type": "code",
   "execution_count": 22,
   "id": "fae1340c",
   "metadata": {},
   "outputs": [],
   "source": [
    "data_true.to_excel('C:/Users/astoi/Desktop/Нейро/Загрузочник.xlsx')\n",
    "data_error.to_excel('C:/Users/astoi/Desktop/Нейро/Ошибки.xlsx')"
   ]
  }
 ],
 "metadata": {
  "kernelspec": {
   "display_name": "Python 3 (ipykernel)",
   "language": "python",
   "name": "python3"
  },
  "language_info": {
   "codemirror_mode": {
    "name": "ipython",
    "version": 3
   },
   "file_extension": ".py",
   "mimetype": "text/x-python",
   "name": "python",
   "nbconvert_exporter": "python",
   "pygments_lexer": "ipython3",
   "version": "3.9.7"
  }
 },
 "nbformat": 4,
 "nbformat_minor": 5
}
