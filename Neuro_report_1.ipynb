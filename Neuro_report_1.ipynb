{
 "cells": [
  {
   "cell_type": "code",
   "execution_count": 1,
   "id": "72b615ce",
   "metadata": {},
   "outputs": [],
   "source": [
    "import pandas as pd\n",
    "import numpy as np\n",
    "from datetime import datetime\n",
    "from datetime import date"
   ]
  },
  {
   "cell_type": "code",
   "execution_count": 2,
   "id": "e8024d7b",
   "metadata": {},
   "outputs": [
    {
     "name": "stdout",
     "output_type": "stream",
     "text": [
      "['Лист1']\n",
      "       msisdn    call_status                               result  \\\n",
      "0  9733849194  486 busy here                                  NaN   \n",
      "1  9710605134  486 busy here                                  NaN   \n",
      "2  9856273132         200 OK  неудобно говорить после приветствия   \n",
      "3  9797603702         200 OK  неудобно говорить после приветствия   \n",
      "4  9285894273  486 busy here                                  NaN   \n",
      "\n",
      "      call_start_time  duration  attempt  \n",
      "0 2021-11-03 10:07:22         0        1  \n",
      "1 2021-11-03 10:07:27         0        1  \n",
      "2 2021-11-03 10:07:28         7        1  \n",
      "3 2021-11-03 10:07:36        10        1  \n",
      "4 2021-11-03 10:07:50         0        1  \n"
     ]
    }
   ],
   "source": [
    "# Загружаем ваш файл в переменную `file` / вместо 'example' укажите название свого файла из текущей директории\n",
    "file = 'C:/users/astoi/Desktop/Нейро/Тестовое задание на позицию Аналитик Данных_исходник/Задание 2. Подготовка отчетов/Отчеты/Отчет №1.xlsx'\n",
    "# Загружаем spreadsheet в объект pandas\n",
    "xl = pd.ExcelFile(file)\n",
    "# Печатаем название листов в данном файле\n",
    "print(xl.sheet_names)\n",
    "data_1 = xl.parse('Лист1')\n",
    "print(data_1.head())"
   ]
  },
  {
   "cell_type": "code",
   "execution_count": 3,
   "id": "c65369a3",
   "metadata": {},
   "outputs": [
    {
     "name": "stdout",
     "output_type": "stream",
     "text": [
      "['Лист1']\n",
      "       msisdn    call_status                               result  \\\n",
      "0  9964074519  403 forbidden                                  NaN   \n",
      "1  9358088939  486 busy here                                  NaN   \n",
      "2  9603484358         200 OK  неудобно говорить после приветствия   \n",
      "3  9700099386         200 OK                 сброс на приветствии   \n",
      "4  9095765474  403 forbidden                                  NaN   \n",
      "\n",
      "      call_start_time  duration  attempt  \n",
      "0 2021-11-03 16:43:06         0        1  \n",
      "1 2021-11-03 16:43:08         0        1  \n",
      "2 2021-11-03 16:43:10         8        1  \n",
      "3 2021-11-03 16:43:10         4        1  \n",
      "4 2021-11-03 16:43:11         0        1  \n"
     ]
    }
   ],
   "source": [
    "# Загружаем ваш файл в переменную `file` / вместо 'example' укажите название свого файла из текущей директории\n",
    "file = 'C:/users/astoi/Desktop/Нейро/Тестовое задание на позицию Аналитик Данных_исходник/Задание 2. Подготовка отчетов/Отчеты/Отчет №2.xlsx'\n",
    "# Загружаем spreadsheet в объект pandas\n",
    "xl = pd.ExcelFile(file)\n",
    "# Печатаем название листов в данном файле\n",
    "print(xl.sheet_names)\n",
    "data_2 = xl.parse('Лист1')\n",
    "print(data_2.head())"
   ]
  },
  {
   "cell_type": "code",
   "execution_count": 4,
   "id": "e9682076",
   "metadata": {},
   "outputs": [
    {
     "name": "stdout",
     "output_type": "stream",
     "text": [
      "['Лист1']\n",
      "       msisdn    call_status result     call_start_time  duration  attempt\n",
      "0  9060838584  486 busy here    NaN 2021-11-03 16:44:05         0        1\n",
      "1  9426363077  486 busy here    NaN 2021-11-03 16:44:10         0        1\n",
      "2  9071069561  486 busy here    NaN 2021-11-03 16:44:10         0        1\n",
      "3  9003879782  486 busy here    NaN 2021-11-03 16:44:12         0        1\n",
      "4  9700922955  486 busy here    NaN 2021-11-03 16:44:13         0        1\n"
     ]
    }
   ],
   "source": [
    "# Загружаем ваш файл в переменную `file` / вместо 'example' укажите название свого файла из текущей директории\n",
    "file = 'C:/users/astoi/Desktop/Нейро/Тестовое задание на позицию Аналитик Данных_исходник/Задание 2. Подготовка отчетов/Отчеты/Отчет №3.xlsx'\n",
    "# Загружаем spreadsheet в объект pandas\n",
    "xl = pd.ExcelFile(file)\n",
    "# Печатаем название листов в данном файле\n",
    "print(xl.sheet_names)\n",
    "data_3 = xl.parse('Лист1')\n",
    "print(data_3.head())"
   ]
  },
  {
   "cell_type": "code",
   "execution_count": 5,
   "id": "c04941a8",
   "metadata": {
    "scrolled": true
   },
   "outputs": [
    {
     "name": "stdout",
     "output_type": "stream",
     "text": [
      "2000\n",
      "1000\n",
      "600\n",
      "2000\n",
      "1000\n",
      "600\n"
     ]
    }
   ],
   "source": [
    "print(len(data_1['msisdn'].unique()))\n",
    "print(len(data_2['msisdn'].unique()))\n",
    "print(len(data_3['msisdn'].unique()))\n",
    "\n",
    "print(len(data_1['msisdn']))\n",
    "print(len(data_2['msisdn']))\n",
    "print(len(data_3['msisdn']))"
   ]
  },
  {
   "cell_type": "code",
   "execution_count": 6,
   "id": "56cf8f21",
   "metadata": {},
   "outputs": [
    {
     "name": "stderr",
     "output_type": "stream",
     "text": [
      "C:\\Users\\astoi\\AppData\\Local\\Temp/ipykernel_19068/4018722500.py:23: SettingWithCopyWarning: \n",
      "A value is trying to be set on a copy of a slice from a DataFrame\n",
      "\n",
      "See the caveats in the documentation: https://pandas.pydata.org/pandas-docs/stable/user_guide/indexing.html#returning-a-view-versus-a-copy\n",
      "  data_report['start_day'][i] = (\"{}.{}.{}\".format(data_report['start_day1'][i].day,\n",
      "C:\\Users\\astoi\\anaconda3\\lib\\site-packages\\pandas\\core\\indexing.py:1732: SettingWithCopyWarning: \n",
      "A value is trying to be set on a copy of a slice from a DataFrame\n",
      "\n",
      "See the caveats in the documentation: https://pandas.pydata.org/pandas-docs/stable/user_guide/indexing.html#returning-a-view-versus-a-copy\n",
      "  self._setitem_single_block(indexer, value, name)\n",
      "C:\\Users\\astoi\\AppData\\Local\\Temp/ipykernel_19068/4018722500.py:27: SettingWithCopyWarning: \n",
      "A value is trying to be set on a copy of a slice from a DataFrame\n",
      "\n",
      "See the caveats in the documentation: https://pandas.pydata.org/pandas-docs/stable/user_guide/indexing.html#returning-a-view-versus-a-copy\n",
      "  data_report['end_date'][i] = (\"{}.{}.{}\".format(data_report['end_date1'][i].day,\n"
     ]
    },
    {
     "data": {
      "text/html": [
       "<div>\n",
       "<style scoped>\n",
       "    .dataframe tbody tr th:only-of-type {\n",
       "        vertical-align: middle;\n",
       "    }\n",
       "\n",
       "    .dataframe tbody tr th {\n",
       "        vertical-align: top;\n",
       "    }\n",
       "\n",
       "    .dataframe thead th {\n",
       "        text-align: right;\n",
       "    }\n",
       "</style>\n",
       "<table border=\"1\" class=\"dataframe\">\n",
       "  <thead>\n",
       "    <tr style=\"text-align: right;\">\n",
       "      <th></th>\n",
       "      <th>Кампания</th>\n",
       "      <th>База</th>\n",
       "      <th>Дозвон, %</th>\n",
       "      <th>Конверсия, %</th>\n",
       "      <th>start_day</th>\n",
       "      <th>end_date</th>\n",
       "      <th>Минуты</th>\n",
       "    </tr>\n",
       "  </thead>\n",
       "  <tbody>\n",
       "    <tr>\n",
       "      <th>0</th>\n",
       "      <td>Отчет №1</td>\n",
       "      <td>2000</td>\n",
       "      <td>0</td>\n",
       "      <td>0.65%</td>\n",
       "      <td>3.11.2021</td>\n",
       "      <td>3.11.2021</td>\n",
       "      <td>382.07</td>\n",
       "    </tr>\n",
       "    <tr>\n",
       "      <th>1</th>\n",
       "      <td>Отчет №2</td>\n",
       "      <td>1000</td>\n",
       "      <td>0</td>\n",
       "      <td>1.0%</td>\n",
       "      <td>3.11.2021</td>\n",
       "      <td>4.11.2021</td>\n",
       "      <td>143.63</td>\n",
       "    </tr>\n",
       "    <tr>\n",
       "      <th>2</th>\n",
       "      <td>Отчет №3</td>\n",
       "      <td>600</td>\n",
       "      <td>0</td>\n",
       "      <td>6.67%</td>\n",
       "      <td>3.11.2021</td>\n",
       "      <td>3.11.2021</td>\n",
       "      <td>219.30</td>\n",
       "    </tr>\n",
       "  </tbody>\n",
       "</table>\n",
       "</div>"
      ],
      "text/plain": [
       "   Кампания  База  Дозвон, % Конверсия, %  start_day   end_date  Минуты\n",
       "0  Отчет №1  2000          0        0.65%  3.11.2021  3.11.2021  382.07\n",
       "1  Отчет №2  1000          0         1.0%  3.11.2021  4.11.2021  143.63\n",
       "2  Отчет №3   600          0        6.67%  3.11.2021  3.11.2021  219.30"
      ]
     },
     "execution_count": 6,
     "metadata": {},
     "output_type": "execute_result"
    }
   ],
   "source": [
    "data_report = pd.DataFrame({'Кампания': ['Отчет №1', 'Отчет №2', 'Отчет №3'],\n",
    " 'База': [len(data_1['msisdn'].unique()), len(data_2['msisdn'].unique()), len(data_3['msisdn'].unique())],\n",
    " 'Дозвон, %': [0, 0, 0],\n",
    " 'Конверсия, %': [str(len(data_1[data_1['result'] == 'согласие'])/\n",
    "                      len(data_1['msisdn'].unique())*100)+\n",
    "                  '%',str(len(data_2[data_2['result'] == 'согласие'])/\n",
    "                          len(data_2['msisdn'].unique())*100)+\n",
    "                  '%',str(round(len(data_3[data_3['result'] == 'согласие'])/\n",
    "                                len(data_3['msisdn'].unique())*100,2))+'%'],\n",
    " 'start_day1': [data_1['call_start_time'].min(), \n",
    "               data_2['call_start_time'].min(),\n",
    "               data_3['call_start_time'].min()],\n",
    "  'start_day': [0, 0, 0],\n",
    "  'end_date1': [data_1['call_start_time'].max(), \n",
    "               data_2['call_start_time'].max(),\n",
    "               data_3['call_start_time'].max()],\n",
    "  'end_date': [0, 0, 0],\n",
    "  'Минуты': [round(sum(data_1['duration'])/60, 2),\n",
    "            round(sum(data_2['duration'])/60, 2),\n",
    "            round(sum(data_3['duration'])/60, 2)]})\n",
    "\n",
    "for i in range(3):\n",
    "    data_report['start_day'][i] = (\"{}.{}.{}\".format(data_report['start_day1'][i].day, \n",
    "                                                  data_report['start_day1'][i].month, \n",
    "                                                  data_report['start_day1'][i].year))\n",
    "for i in range(3):\n",
    "    data_report['end_date'][i] = (\"{}.{}.{}\".format(data_report['end_date1'][i].day, \n",
    "                                                  data_report['end_date1'][i].month, \n",
    "                                                  data_report['end_date1'][i].year))\n",
    "del data_report[data_report.columns [4]]\n",
    "del data_report[data_report.columns [5]]\n",
    "\n",
    "data_report"
   ]
  },
  {
   "cell_type": "code",
   "execution_count": 7,
   "id": "e90024ef",
   "metadata": {},
   "outputs": [
    {
     "name": "stdout",
     "output_type": "stream",
     "text": [
      "   Кампания  База Дозвон, % Конверсия, %  start_day   end_date  Минуты\n",
      "0  Отчет №1  2000     23.6%        0.65%  3.11.2021  3.11.2021  382.07\n",
      "1  Отчет №2  1000     14.3%         1.0%  3.11.2021  4.11.2021  143.63\n",
      "2  Отчет №3   600     30.0%        6.67%  3.11.2021  3.11.2021  219.30\n"
     ]
    },
    {
     "name": "stderr",
     "output_type": "stream",
     "text": [
      "C:\\Users\\astoi\\AppData\\Local\\Temp/ipykernel_19068/2231029272.py:11: SettingWithCopyWarning: \n",
      "A value is trying to be set on a copy of a slice from a DataFrame\n",
      "\n",
      "See the caveats in the documentation: https://pandas.pydata.org/pandas-docs/stable/user_guide/indexing.html#returning-a-view-versus-a-copy\n",
      "  data_report['Дозвон, %'][i] = str(round(len(x) / data_report['База'][i]*100, 2)) + '%'\n",
      "C:\\Users\\astoi\\anaconda3\\lib\\site-packages\\pandas\\core\\indexing.py:1732: SettingWithCopyWarning: \n",
      "A value is trying to be set on a copy of a slice from a DataFrame\n",
      "\n",
      "See the caveats in the documentation: https://pandas.pydata.org/pandas-docs/stable/user_guide/indexing.html#returning-a-view-versus-a-copy\n",
      "  self._setitem_single_block(indexer, value, name)\n"
     ]
    }
   ],
   "source": [
    "data_1 = data_1.dropna(subset=['result'])\n",
    "data_2 = data_2.dropna(subset=['result'])\n",
    "data_3 = data_3.dropna(subset=['result'])\n",
    "\n",
    "bad_result = ['автоответчик', 'тишина']\n",
    "bad_duration = [0,1,2,3]\n",
    "df = [data_1, data_2, data_3]\n",
    "\n",
    "for i in range(len(df)):\n",
    "    x = df[i].query('result not in [\"автоответчик\", \"тишина\"] and duration > 3')\n",
    "    data_report['Дозвон, %'][i] = str(round(len(x) / data_report['База'][i]*100, 2)) + '%'\n",
    "\n",
    "print(data_report)\n"
   ]
  },
  {
   "cell_type": "code",
   "execution_count": 8,
   "id": "61585b0d",
   "metadata": {},
   "outputs": [
    {
     "data": {
      "text/plain": [
       "'22.63%'"
      ]
     },
     "execution_count": 8,
     "metadata": {},
     "output_type": "execute_result"
    }
   ],
   "source": [
    "x = [float(x[:-1]) for x in data_report['Дозвон, %']]\n",
    "str(round(sum(x) / 3, 2)) + '%'"
   ]
  },
  {
   "cell_type": "code",
   "execution_count": 11,
   "id": "12a1ac66",
   "metadata": {},
   "outputs": [
    {
     "data": {
      "text/html": [
       "<div>\n",
       "<style scoped>\n",
       "    .dataframe tbody tr th:only-of-type {\n",
       "        vertical-align: middle;\n",
       "    }\n",
       "\n",
       "    .dataframe tbody tr th {\n",
       "        vertical-align: top;\n",
       "    }\n",
       "\n",
       "    .dataframe thead th {\n",
       "        text-align: right;\n",
       "    }\n",
       "</style>\n",
       "<table border=\"1\" class=\"dataframe\">\n",
       "  <thead>\n",
       "    <tr style=\"text-align: right;\">\n",
       "      <th></th>\n",
       "      <th>Кампания</th>\n",
       "      <th>База</th>\n",
       "      <th>Дозвон, %</th>\n",
       "      <th>Конверсия, %</th>\n",
       "      <th>start_day</th>\n",
       "      <th>end_date</th>\n",
       "      <th>Минуты</th>\n",
       "    </tr>\n",
       "  </thead>\n",
       "  <tbody>\n",
       "    <tr>\n",
       "      <th>0</th>\n",
       "      <td>Отчет №1</td>\n",
       "      <td>2000</td>\n",
       "      <td>23.6%</td>\n",
       "      <td>0.65%</td>\n",
       "      <td>3.11.2021</td>\n",
       "      <td>3.11.2021</td>\n",
       "      <td>382.07</td>\n",
       "    </tr>\n",
       "    <tr>\n",
       "      <th>1</th>\n",
       "      <td>Отчет №2</td>\n",
       "      <td>1000</td>\n",
       "      <td>14.3%</td>\n",
       "      <td>1.0%</td>\n",
       "      <td>3.11.2021</td>\n",
       "      <td>4.11.2021</td>\n",
       "      <td>143.63</td>\n",
       "    </tr>\n",
       "    <tr>\n",
       "      <th>2</th>\n",
       "      <td>Отчет №3</td>\n",
       "      <td>600</td>\n",
       "      <td>30.0%</td>\n",
       "      <td>6.67%</td>\n",
       "      <td>3.11.2021</td>\n",
       "      <td>3.11.2021</td>\n",
       "      <td>219.30</td>\n",
       "    </tr>\n",
       "    <tr>\n",
       "      <th>3</th>\n",
       "      <td>Общий итог</td>\n",
       "      <td>3600</td>\n",
       "      <td>22.63%</td>\n",
       "      <td>2.77%</td>\n",
       "      <td>3.11.2021</td>\n",
       "      <td>4.11.2021</td>\n",
       "      <td>745.00</td>\n",
       "    </tr>\n",
       "  </tbody>\n",
       "</table>\n",
       "</div>"
      ],
      "text/plain": [
       "     Кампания  База Дозвон, % Конверсия, %  start_day   end_date  Минуты\n",
       "0    Отчет №1  2000     23.6%        0.65%  3.11.2021  3.11.2021  382.07\n",
       "1    Отчет №2  1000     14.3%         1.0%  3.11.2021  4.11.2021  143.63\n",
       "2    Отчет №3   600     30.0%        6.67%  3.11.2021  3.11.2021  219.30\n",
       "3  Общий итог  3600    22.63%        2.77%  3.11.2021  4.11.2021  745.00"
      ]
     },
     "execution_count": 11,
     "metadata": {},
     "output_type": "execute_result"
    }
   ],
   "source": [
    "x = [float(x[:-1]) for x in data_report['Дозвон, %']]\n",
    "y = [float(x[:-1]) for x in data_report['Конверсия, %']]\n",
    "data_report.loc[ len(data_report.index )] = ['Общий итог',\n",
    "                                             sum(data_report['База']),\n",
    "                                            str(round(sum(x) / 3, 2)) + '%',\n",
    "                                            str(round(sum(y) / 3, 2)) + '%',\n",
    "                                            min(data_report['start_day']),\n",
    "                                            max(data_report['end_date']),\n",
    "                                            sum(data_report['Минуты'])]\n",
    "data_report"
   ]
  },
  {
   "cell_type": "code",
   "execution_count": 12,
   "id": "386bd84b",
   "metadata": {},
   "outputs": [],
   "source": [
    "data_report.to_excel('C:/Users/astoi/Desktop/Нейро/Отчет.xlsx')"
   ]
  }
 ],
 "metadata": {
  "kernelspec": {
   "display_name": "Python 3 (ipykernel)",
   "language": "python",
   "name": "python3"
  },
  "language_info": {
   "codemirror_mode": {
    "name": "ipython",
    "version": 3
   },
   "file_extension": ".py",
   "mimetype": "text/x-python",
   "name": "python",
   "nbconvert_exporter": "python",
   "pygments_lexer": "ipython3",
   "version": "3.9.7"
  }
 },
 "nbformat": 4,
 "nbformat_minor": 5
}
